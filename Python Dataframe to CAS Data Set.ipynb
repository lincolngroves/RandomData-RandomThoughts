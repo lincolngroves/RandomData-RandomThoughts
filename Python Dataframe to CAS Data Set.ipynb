{
 "cells": [
  {
   "cell_type": "markdown",
   "id": "943224f7-4c1d-4a17-a77b-69776b5b55ed",
   "metadata": {},
   "source": [
    "# Python Dataframe to CAS Dataset Conversion"
   ]
  },
  {
   "cell_type": "markdown",
   "id": "44252636-5231-4b75-9ea1-f47f62db4a95",
   "metadata": {},
   "source": [
    "### Purpose\n",
    "This Python Notebook shows you how to leverage the rdatasets package in SAS Viya for Learners 4. This is an act in 3 parts: <br>\n",
    "<br>(1) Examine all the datasets available in rdatasets\n",
    "<br>(2) Load a specific dataset of interest\n",
    "<br>(3) Convert that python dataframe to table in CAS\n",
    "\n",
    "Why do all that work? Well, by pushing to CAS, you can use other tools in SAS Viya like SAS Viya Analytics or SAS Model Studio."
   ]
  },
  {
   "cell_type": "code",
   "execution_count": 3,
   "id": "5e16330c-802c-44e0-bd75-4fe39b2a4b05",
   "metadata": {},
   "outputs": [],
   "source": [
    "# Import the required packages.\n",
    "import rdatasets\n",
    "import pandas as pd"
   ]
  },
  {
   "cell_type": "code",
   "execution_count": null,
   "id": "f4fcf130-69d3-4732-afec-243b81e7de5d",
   "metadata": {},
   "outputs": [],
   "source": [
    "Part 1: Examine all the datasets available in rdatasets"
   ]
  },
  {
   "cell_type": "code",
   "execution_count": null,
   "id": "011f1a25-94db-4e4f-a486-f9e93243a5b7",
   "metadata": {
    "tags": []
   },
   "outputs": [],
   "source": [
    "rdatasets.summary()"
   ]
  },
  {
   "cell_type": "code",
   "execution_count": null,
   "id": "4d7d9cb2-a0d4-4570-9269-838489fbcaa1",
   "metadata": {},
   "outputs": [],
   "source": [
    "from rdatasets import data"
   ]
  },
  {
   "cell_type": "code",
   "execution_count": null,
   "id": "51c1eaf2-c5b4-487d-b3b1-e1349bff156f",
   "metadata": {
    "tags": []
   },
   "outputs": [],
   "source": [
    "# Load the \"Affairs\" dataset from the \"AER\" package\n",
    "affairs_data = data(package='AER', item='Affairs')"
   ]
  },
  {
   "cell_type": "code",
   "execution_count": null,
   "id": "d9596c95-8a5b-469c-b256-0d79011f46de",
   "metadata": {},
   "outputs": [],
   "source": [
    "# Now, `affairs_data` contains the dataset\n",
    "print(affairs_data.head())  # Print the first few rows of the dataset"
   ]
  },
  {
   "cell_type": "code",
   "execution_count": null,
   "id": "9df55199-6853-44c0-a8df-3fe3a2613a8d",
   "metadata": {},
   "outputs": [],
   "source": [
    "import os,swat"
   ]
  },
  {
   "cell_type": "code",
   "execution_count": null,
   "id": "82324a26-27c7-44b3-b739-11ab7ad2fd73",
   "metadata": {},
   "outputs": [],
   "source": [
    "conn = swat.CAS(os.environ['CAS_CONTROLLER'], 5570, password=os.environ['ACCESS_TOKEN'])"
   ]
  },
  {
   "cell_type": "code",
   "execution_count": null,
   "id": "e6a704a4-d2d4-4846-b410-8af435d750eb",
   "metadata": {},
   "outputs": [],
   "source": [
    "# Assuming `affairs_data` is your pandas DataFrame\n",
    "# Upload it to CAS\n",
    "cas_table = conn.upload_frame(affairs_data, casout=dict(name='affairs_data', replace=True))"
   ]
  },
  {
   "cell_type": "code",
   "execution_count": null,
   "id": "b289b89d-6b0e-49b1-80b2-b854d19d3053",
   "metadata": {},
   "outputs": [],
   "source": [
    "# New method of saving\n",
    "cas_table.save(name=\"affairs_data.sashdat\", replace=True)"
   ]
  },
  {
   "cell_type": "code",
   "execution_count": null,
   "id": "98132361-e7de-4cc7-8f89-40c16a2c3d3c",
   "metadata": {},
   "outputs": [],
   "source": [
    "# Get the list of tables in a specific caslib\n",
    "conn.tableInfo(caslib = 'casuser')"
   ]
  }
 ],
 "metadata": {
  "kernelspec": {
   "display_name": "Python 3 (ipykernel)",
   "language": "python",
   "name": "python3"
  },
  "language_info": {
   "codemirror_mode": {
    "name": "ipython",
    "version": 3
   },
   "file_extension": ".py",
   "mimetype": "text/x-python",
   "name": "python",
   "nbconvert_exporter": "python",
   "pygments_lexer": "ipython3",
   "version": "3.10.6"
  }
 },
 "nbformat": 4,
 "nbformat_minor": 5
}
